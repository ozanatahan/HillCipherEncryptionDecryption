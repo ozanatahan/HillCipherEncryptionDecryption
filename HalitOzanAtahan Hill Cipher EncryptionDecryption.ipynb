{
 "cells": [
  {
   "cell_type": "code",
   "execution_count": 82,
   "id": "e411c8f3",
   "metadata": {},
   "outputs": [
    {
     "name": "stdout",
     "output_type": "stream",
     "text": [
      "{'\\x00': 0, '\\x01': 1, '\\x02': 2, '\\x03': 3, '\\x04': 4, '\\x05': 5, '\\x06': 6, '\\x07': 7, '\\x08': 8, '\\t': 9, '\\n': 10, '\\x0b': 11, '\\x0c': 12, '\\r': 13, '\\x0e': 14, '\\x0f': 15, '\\x10': 16, '\\x11': 17, '\\x12': 18, '\\x13': 19, '\\x14': 20, '\\x15': 21, '\\x16': 22, '\\x17': 23, '\\x18': 24, '\\x19': 25, '\\x1a': 26, '\\x1b': 27, '\\x1c': 28, '\\x1d': 29, '\\x1e': 30, '\\x1f': 31, ' ': 32, '!': 33, '\"': 34, '#': 35, '$': 36, '%': 37, '&': 38, \"'\": 39, '(': 40, ')': 41, '*': 42, '+': 43, ',': 44, '-': 45, '.': 46, '/': 47, '0': 48, '1': 49, '2': 50, '3': 51, '4': 52, '5': 53, '6': 54, '7': 55, '8': 56, '9': 57, ':': 58, ';': 59, '<': 60, '=': 61, '>': 62, '?': 63, '@': 64, 'A': 65, 'B': 66, 'C': 67, 'D': 68, 'E': 69, 'F': 70, 'G': 71, 'H': 72, 'I': 73, 'J': 74, 'K': 75, 'L': 76, 'M': 77, 'N': 78, 'O': 79, 'P': 80, 'Q': 81, 'R': 82, 'S': 83, 'T': 84, 'U': 85, 'V': 86, 'W': 87, 'X': 88, 'Y': 89, 'Z': 90, '[': 91, '\\\\': 92, ']': 93, '^': 94, '_': 95, '`': 96, 'a': 97, 'b': 98, 'c': 99, 'd': 100, 'e': 101, 'f': 102, 'g': 103, 'h': 104, 'i': 105, 'j': 106, 'k': 107, 'l': 108, 'm': 109, 'n': 110, 'o': 111, 'p': 112, 'q': 113, 'r': 114, 's': 115, 't': 116, 'u': 117, 'v': 118, 'w': 119, 'x': 120, 'y': 121, 'z': 122, '{': 123, '|': 124, '}': 125, '~': 126, '\\x7f': 127}\n"
     ]
    }
   ],
   "source": [
    "ascii_dict = {}\n",
    "for i in range(128):\n",
    "    ascii_dict[chr(i)] = i\n",
    "print(ascii_dict)\n"
   ]
  },
  {
   "cell_type": "code",
   "execution_count": 83,
   "id": "be0cbff9",
   "metadata": {},
   "outputs": [
    {
     "name": "stdout",
     "output_type": "stream",
     "text": [
      "{' ': 0, '!': 1, '\"': 2, '#': 3, '$': 4, '%': 5, '&': 6, \"'\": 7, '(': 8, ')': 9, '*': 10, '+': 11, ',': 12, '-': 13, '.': 14, '/': 15, '0': 16, '1': 17, '2': 18, '3': 19, '4': 20, '5': 21, '6': 22, '7': 23, '8': 24, '9': 25, ':': 26, ';': 27, '<': 28, '=': 29, '>': 30, '?': 31, '@': 32, 'A': 33, 'B': 34, 'C': 35, 'D': 36, 'E': 37, 'F': 38, 'G': 39, 'H': 40, 'I': 41, 'J': 42, 'K': 43, 'L': 44, 'M': 45, 'N': 46, 'O': 47, 'P': 48, 'Q': 49, 'R': 50, 'S': 51, 'T': 52, 'U': 53, 'V': 54, 'W': 55, 'X': 56, 'Y': 57, 'Z': 58, '[': 59, '\\\\': 60, ']': 61, '^': 62, '_': 63, '`': 64, 'a': 65, 'b': 66, 'c': 67, 'd': 68, 'e': 69, 'f': 70, 'g': 71, 'h': 72, 'i': 73, 'j': 74, 'k': 75, 'l': 76, 'm': 77, 'n': 78, 'o': 79, 'p': 80, 'q': 81, 'r': 82, 's': 83, 't': 84, 'u': 85, 'v': 86, 'w': 87, 'x': 88, 'y': 89, 'z': 90, '{': 91, '|': 92, '}': 93, '~': 94}\n"
     ]
    }
   ],
   "source": [
    "characters = {' ': 32, '!': 33, '\"': 34, '#': 35, '$': 36, '%': 37, '&': 38, \"'\": 39, '(': 40, ')': 41, '*': 42, '+': 43, ',': 44, '-': 45, '.': 46, '/': 47, '0': 48, '1': 49, '2': 50, '3': 51, '4': 52, '5': 53, '6': 54, '7': 55, '8': 56, '9': 57, ':': 58, ';': 59, '<': 60, '=': 61, '>': 62, '?': 63, '@': 64, 'A': 65, 'B': 66, 'C': 67, 'D': 68, 'E': 69, 'F': 70, 'G': 71, 'H': 72, 'I': 73, 'J': 74, 'K': 75, 'L': 76, 'M': 77, 'N': 78, 'O': 79, 'P': 80, 'Q': 81, 'R': 82, 'S': 83, 'T': 84, 'U': 85, 'V': 86, 'W': 87, 'X': 88, 'Y': 89, 'Z': 90, '[': 91, '\\\\': 92, ']': 93, '^': 94, '_': 95, '`': 96, 'a': 97, 'b': 98, 'c': 99, 'd': 100, 'e': 101, 'f': 102, 'g': 103, 'h': 104, 'i': 105, 'j': 106, 'k': 107, 'l': 108, 'm': 109, 'n': 110, 'o': 111, 'p': 112, 'q': 113, 'r': 114, 's': 115, 't': 116, 'u': 117, 'v': 118, 'w': 119, 'x': 120, 'y': 121, 'z': 122, '{': 123, '|': 124, '}': 125, '~': 126}\n",
    "for key in characters:\n",
    "    characters[key] -= 32\n",
    "print(characters)"
   ]
  },
  {
   "cell_type": "code",
   "execution_count": 84,
   "id": "c95b3c54",
   "metadata": {},
   "outputs": [],
   "source": [
    "txt = \"dfsjnSDsF NSDfs\"\n",
    "import math\n",
    "row = math.ceil(len(txt)/3)"
   ]
  },
  {
   "cell_type": "code",
   "execution_count": 85,
   "id": "81047507",
   "metadata": {},
   "outputs": [
    {
     "name": "stdout",
     "output_type": "stream",
     "text": [
      "[['d', 'f', 's'], ['j', 'n', 'S'], ['D', 's', 'F'], [' ', 'N', 'S'], ['D', 'f', 's']]\n"
     ]
    }
   ],
   "source": [
    "txt_matrix = []\n",
    "for i in range(row):\n",
    "    txt_matrix.append(list(txt[i*3:(i+1)*3]))\n",
    "\n",
    "print(txt_matrix)"
   ]
  },
  {
   "cell_type": "code",
   "execution_count": 86,
   "id": "baab6cf6",
   "metadata": {},
   "outputs": [
    {
     "name": "stdout",
     "output_type": "stream",
     "text": [
      "[[68, 70, 83], [74, 78, 51], [36, 83, 38], [0, 46, 51], [36, 70, 83]]\n"
     ]
    }
   ],
   "source": [
    "for i in range(row):\n",
    "    for j in range(3):\n",
    "        txt_matrix[i][j] = characters[txt_matrix[i][j]]\n",
    "print(txt_matrix)"
   ]
  },
  {
   "cell_type": "code",
   "execution_count": 87,
   "id": "d389cdc1",
   "metadata": {},
   "outputs": [],
   "source": [
    "import numpy as np\n",
    "key = [[1,2,3],[2,2,0],[0,2,3]]\n",
    "key_matrix = np.array(key, dtype=float)\n",
    "txt_matrix = np.array(txt_matrix, dtype=float)"
   ]
  },
  {
   "cell_type": "code",
   "execution_count": 88,
   "id": "6ff6eadb",
   "metadata": {},
   "outputs": [
    {
     "name": "stdout",
     "output_type": "stream",
     "text": [
      "[[208. 442. 453.]\n",
      " [230. 406. 375.]\n",
      " [202. 314. 222.]\n",
      " [ 92. 194. 153.]\n",
      " [176. 378. 357.]]\n",
      "[[18. 62. 73.]\n",
      " [40. 26. 90.]\n",
      " [12. 29. 32.]\n",
      " [92.  4. 58.]\n",
      " [81. 93. 72.]]\n"
     ]
    }
   ],
   "source": [
    "encrypted_matrix = txt_matrix @ key_matrix\n",
    "print(encrypted_matrix)\n",
    "for i in range(row):\n",
    "    for j in range(3):\n",
    "        encrypted_matrix[i][j] = encrypted_matrix[i][j]%95\n",
    "print(encrypted_matrix)"
   ]
  },
  {
   "cell_type": "code",
   "execution_count": 89,
   "id": "390dada4",
   "metadata": {},
   "outputs": [
    {
     "name": "stdout",
     "output_type": "stream",
     "text": [
      "[['2' '^' 'i']\n",
      " ['H' ':' 'z']\n",
      " [',' '=' '@']\n",
      " ['|' '$' 'Z']\n",
      " ['q' '}' 'h']]\n"
     ]
    }
   ],
   "source": [
    "reversed_characters = {}\n",
    "for key, val in characters.items():\n",
    "    reversed_characters[val] = key\n",
    "encrypted_matrix=(encrypted_matrix.astype(int))\n",
    "str_encrypted_matrix = np.array(encrypted_matrix,dtype=str)\n",
    "for i in range(row):\n",
    "    for j in range(3):\n",
    "        str_encrypted_matrix[i][j] = reversed_characters[encrypted_matrix[i][j]]\n",
    "        \n",
    "print(str_encrypted_matrix)"
   ]
  },
  {
   "cell_type": "code",
   "execution_count": 90,
   "id": "1ad2437a",
   "metadata": {},
   "outputs": [
    {
     "name": "stdout",
     "output_type": "stream",
     "text": [
      "['2', '^', 'i', 'H', ':', 'z', ',', '=', '@', '|', '$', 'Z', 'q', '}', 'h']\n"
     ]
    }
   ],
   "source": [
    "encrypted_txt = []\n",
    "for j in range(row):\n",
    "    for k in range(3):            \n",
    "        encrypted_txt.append(str_encrypted_matrix[j][k])\n",
    "print(encrypted_txt)"
   ]
  },
  {
   "cell_type": "code",
   "execution_count": 91,
   "id": "0abb0921",
   "metadata": {},
   "outputs": [
    {
     "data": {
      "text/plain": [
       "'2^iH:z,=@|$Zq}h'"
      ]
     },
     "execution_count": 91,
     "metadata": {},
     "output_type": "execute_result"
    }
   ],
   "source": [
    "encrypted_string = ''.join(encrypted_txt)\n",
    "encrypted_string"
   ]
  },
  {
   "cell_type": "code",
   "execution_count": 92,
   "id": "6db01cf1",
   "metadata": {},
   "outputs": [],
   "source": [
    "def Encryptor(Key,Text):\n",
    "    characters = {}\n",
    "    for i in range(32,127):\n",
    "        characters[chr(i)] = i-32\n",
    "    \n",
    "    while len(Text) % 3 != 0:\n",
    "        Text += ' '\n",
    "    import math\n",
    "    row = math.ceil(len(Text)/3)\n",
    "    txt_matrix = []\n",
    "    for i in range(row):\n",
    "        txt_matrix.append(list(Text[i*3:(i+1)*3]))\n",
    "    for i in range(row):\n",
    "        for j in range(3):\n",
    "            txt_matrix[i][j] = characters[txt_matrix[i][j]]\n",
    "    import numpy as np\n",
    "    key_matrix = np.array(Key, dtype=float)\n",
    "    txt_matrix = np.array(txt_matrix, dtype=float)\n",
    "    encrypted_matrix = txt_matrix @ key_matrix\n",
    "    for i in range(row):\n",
    "        for j in range(3):\n",
    "            encrypted_matrix[i][j] = encrypted_matrix[i][j]%95\n",
    "    reversed_characters = {}\n",
    "    for key, val in characters.items():\n",
    "        reversed_characters[val] = key\n",
    "    encrypted_matrix=(encrypted_matrix.astype(int))\n",
    "    str_encrypted_matrix = np.array(encrypted_matrix,dtype=str)\n",
    "    for i in range(row):\n",
    "        for j in range(3):\n",
    "            str_encrypted_matrix[i][j] = reversed_characters[encrypted_matrix[i][j]]\n",
    "    encrypted_txt = []\n",
    "    for j in range(row):\n",
    "        for k in range(3):            \n",
    "            encrypted_txt.append(str_encrypted_matrix[j][k])\n",
    "    encrypted_string = ''.join(encrypted_txt)\n",
    "    return encrypted_string"
   ]
  },
  {
   "cell_type": "code",
   "execution_count": 93,
   "id": "e148ff4d",
   "metadata": {},
   "outputs": [
    {
     "data": {
      "text/plain": [
       "'2^iH:z,=@|$Zq}haC%'"
      ]
     },
     "execution_count": 93,
     "metadata": {},
     "output_type": "execute_result"
    }
   ],
   "source": [
    "Encryptor([[1,2,3],[2,2,0],[0,2,3]],\"dfsjnSDsF NSDfsa\")"
   ]
  },
  {
   "cell_type": "code",
   "execution_count": 94,
   "id": "68889bb7",
   "metadata": {},
   "outputs": [
    {
     "data": {
      "text/plain": [
       "'$&3inS$#&?mrC6sA/_'"
      ]
     },
     "execution_count": 94,
     "metadata": {},
     "output_type": "execute_result"
    }
   ],
   "source": [
    "Encryptor([[1,0,-1],[-1,0.5,1],[0.666,-0.333,-0.333]],\"2^iH:z,=@|$Zq}haC%\")"
   ]
  },
  {
   "cell_type": "code",
   "execution_count": 95,
   "id": "ff4cb2a8",
   "metadata": {},
   "outputs": [
    {
     "name": "stdout",
     "output_type": "stream",
     "text": [
      "Matrix([[6, 0, 89], [89, 3, 6], [4, 93, 93]])\n",
      "16\n"
     ]
    }
   ],
   "source": [
    "from sympy import Matrix\n",
    "from sympy import mod_inverse\n",
    "import numpy as np\n",
    "\n",
    "Key = [[1,2,3],[2,2,0],[0,2,3]]\n",
    "detmod = np.linalg.det(Key)%95\n",
    "modular_inverse = mod_inverse(int(detmod), 95)\n",
    "Key = Matrix(Key)\n",
    "adj_matrix = Key.adjugate()%95\n",
    "print(adj_matrix)\n",
    "print(modular_inverse)\n",
    "inverse_key = modular_inverse*adj_matrix%95\n",
    "inverse_key = np.array(c,dtype=int)"
   ]
  },
  {
   "cell_type": "code",
   "execution_count": 96,
   "id": "4889f9b2",
   "metadata": {},
   "outputs": [
    {
     "data": {
      "text/plain": [
       "'dfsjnSDsF NSDfsa  '"
      ]
     },
     "execution_count": 96,
     "metadata": {},
     "output_type": "execute_result"
    }
   ],
   "source": [
    "Encryptor(inverse_key,\"2^iH:z,=@|$Zq}haC%\")"
   ]
  },
  {
   "cell_type": "code",
   "execution_count": 97,
   "id": "36addbc7",
   "metadata": {},
   "outputs": [],
   "source": [
    "def Decryptor(Key,Text):\n",
    "    characters = {}\n",
    "    for i in range(32,127):\n",
    "        characters[chr(i)] = i-32\n",
    "    import math\n",
    "    row = math.ceil(len(Text)/3)\n",
    "    txt_matrix = []\n",
    "    for i in range(row):\n",
    "        txt_matrix.append(list(Text[i*3:(i+1)*3]))\n",
    "    for i in range(row):\n",
    "        for j in range(3):\n",
    "            txt_matrix[i][j] = characters[txt_matrix[i][j]]   \n",
    "    from sympy import Matrix\n",
    "    from sympy import mod_inverse\n",
    "    import numpy as np\n",
    "    detmod = np.linalg.det(Key)%95\n",
    "    modular_inverse = mod_inverse(int(detmod), 95)\n",
    "    Key = Matrix(Key)\n",
    "    adj_matrix = Key.adjugate()%95\n",
    "    inverse_key = modular_inverse*adj_matrix%95\n",
    "    key_matrix = np.array(inverse_key, dtype=float)\n",
    "    txt_matrix = np.array(txt_matrix, dtype=float)\n",
    "    encrypted_matrix = txt_matrix @ key_matrix\n",
    "    for i in range(row):\n",
    "        for j in range(3):\n",
    "            encrypted_matrix[i][j] = encrypted_matrix[i][j]%95\n",
    "    reversed_characters = {}\n",
    "    for key, val in characters.items():\n",
    "        reversed_characters[val] = key\n",
    "    encrypted_matrix=(encrypted_matrix.astype(int))\n",
    "    str_encrypted_matrix = np.array(encrypted_matrix,dtype=str)\n",
    "    for i in range(row):\n",
    "        for j in range(3):\n",
    "            str_encrypted_matrix[i][j] = reversed_characters[encrypted_matrix[i][j]]\n",
    "    encrypted_txt = []\n",
    "    for j in range(row):\n",
    "        for k in range(3):            \n",
    "            encrypted_txt.append(str_encrypted_matrix[j][k])\n",
    "    encrypted_string = ''.join(encrypted_txt).rstrip()\n",
    "    return encrypted_string"
   ]
  },
  {
   "cell_type": "code",
   "execution_count": 98,
   "id": "ed1e5235",
   "metadata": {},
   "outputs": [
    {
     "data": {
      "text/plain": [
       "'dfsjnSDsF NSDfsa'"
      ]
     },
     "execution_count": 98,
     "metadata": {},
     "output_type": "execute_result"
    }
   ],
   "source": [
    "Decryptor([[1,2,3],[2,2,0],[0,2,3]],\"2^iH:z,=@|$Zq}haC%\")"
   ]
  },
  {
   "cell_type": "code",
   "execution_count": 99,
   "id": "4ba2b76e",
   "metadata": {},
   "outputs": [],
   "source": [
    "#Key_inverse_check\n",
    "#from sympy import Matrix\n",
    "#from sympy import mod_inverse\n",
    "#import numpy as np\n",
    "#detmod = np.linalg.det(Key)%95\n",
    "#if detmod ==0:\n",
    "#    return (\"Choosen Key is not invertable!\")"
   ]
  },
  {
   "cell_type": "code",
   "execution_count": 100,
   "id": "5c5d9f7d",
   "metadata": {},
   "outputs": [],
   "source": [
    "def Encryptor(Key,Text):\n",
    "    from sympy import Matrix\n",
    "    from sympy import mod_inverse\n",
    "    import numpy as np\n",
    "    import math\n",
    "    detmod = np.linalg.det(Key)%95\n",
    "    if detmod ==0:\n",
    "        return (\"Choosen Key is not invertable!\")    \n",
    "    characters = {}\n",
    "    for i in range(32,127):\n",
    "        characters[chr(i)] = i-32\n",
    "    \n",
    "    while len(Text) % 3 != 0:\n",
    "        Text += ' '\n",
    "    row = math.ceil(len(Text)/3)\n",
    "    txt_matrix = []\n",
    "    for i in range(row):\n",
    "        txt_matrix.append(list(Text[i*3:(i+1)*3]))\n",
    "    for i in range(row):\n",
    "        for j in range(3):\n",
    "            txt_matrix[i][j] = characters[txt_matrix[i][j]]\n",
    "    key_matrix = np.array(Key, dtype=float)\n",
    "    txt_matrix = np.array(txt_matrix, dtype=float)\n",
    "    encrypted_matrix = txt_matrix @ key_matrix\n",
    "    for i in range(row):\n",
    "        for j in range(3):\n",
    "            encrypted_matrix[i][j] = encrypted_matrix[i][j]%95\n",
    "    reversed_characters = {}\n",
    "    for key, val in characters.items():\n",
    "        reversed_characters[val] = key\n",
    "    encrypted_matrix=(encrypted_matrix.astype(int))\n",
    "    str_encrypted_matrix = np.array(encrypted_matrix,dtype=str)\n",
    "    for i in range(row):\n",
    "        for j in range(3):\n",
    "            str_encrypted_matrix[i][j] = reversed_characters[encrypted_matrix[i][j]]\n",
    "    encrypted_txt = []\n",
    "    for j in range(row):\n",
    "        for k in range(3):            \n",
    "            encrypted_txt.append(str_encrypted_matrix[j][k])\n",
    "    encrypted_string = ''.join(encrypted_txt)\n",
    "    return encrypted_string"
   ]
  },
  {
   "cell_type": "code",
   "execution_count": 101,
   "id": "6d46f9f9",
   "metadata": {},
   "outputs": [
    {
     "data": {
      "text/plain": [
       "'Choosen Key is not invertable!'"
      ]
     },
     "execution_count": 101,
     "metadata": {},
     "output_type": "execute_result"
    }
   ],
   "source": [
    "Encryptor([[1,0,0],[2,0,0],[0,2,3]],\"dfsjnSDsF NSDfsa\")"
   ]
  }
 ],
 "metadata": {
  "kernelspec": {
   "display_name": "Python 3 (ipykernel)",
   "language": "python",
   "name": "python3"
  },
  "language_info": {
   "codemirror_mode": {
    "name": "ipython",
    "version": 3
   },
   "file_extension": ".py",
   "mimetype": "text/x-python",
   "name": "python",
   "nbconvert_exporter": "python",
   "pygments_lexer": "ipython3",
   "version": "3.11.7"
  }
 },
 "nbformat": 4,
 "nbformat_minor": 5
}
